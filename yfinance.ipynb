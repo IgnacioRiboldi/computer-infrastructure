{
 "cells": [
  {
   "cell_type": "markdown",
   "id": "f5001a18",
   "metadata": {},
   "source": [
    "# yFinance"
   ]
  },
  {
   "cell_type": "markdown",
   "id": "16285f72",
   "metadata": {},
   "source": [
    "https://github.com/ranaroussi/yfinance"
   ]
  },
  {
   "cell_type": "markdown",
   "id": "e7cbd09b",
   "metadata": {},
   "source": []
  }
 ],
 "metadata": {
  "language_info": {
   "name": "python"
  }
 },
 "nbformat": 4,
 "nbformat_minor": 5
}
